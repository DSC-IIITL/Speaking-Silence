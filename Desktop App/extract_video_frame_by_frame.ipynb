{
 "cells": [
  {
   "cell_type": "markdown",
   "metadata": {},
   "source": [
    "# Extract every frame of a video"
   ]
  },
  {
   "cell_type": "code",
   "execution_count": null,
   "metadata": {},
   "outputs": [],
   "source": [
    "import cv2\n",
    "import numpy as np\n",
    "import os"
   ]
  },
  {
   "cell_type": "code",
   "execution_count": null,
   "metadata": {},
   "outputs": [],
   "source": [
    "vidcap = cv2.VideoCapture('F:\\\\temp\\\\test_videos\\\\test1.mp4')\n",
    "success,image = vidcap.read()\n",
    "count = 1000\n",
    "while success:\n",
    "    cv2.imwrite(\"F:\\\\temp\\\\photos\\\\compressed_images\\\\frame%d.jpg\" % count, image)     # save frame as JPEG file      \n",
    "    success,image = vidcap.read()\n",
    "#   print('Read a new frame: ', success)\n",
    "    count += 1"
   ]
  },
  {
   "cell_type": "code",
   "execution_count": null,
   "metadata": {},
   "outputs": [],
   "source": [
    "def Cap_video_frame(source,dest):\n",
    "    vidcap = cv2.VideoCapture(source)\n",
    "    success,image = vidcap.read()\n",
    "    count = 0\n",
    "    while success:\n",
    "        cv2.imwrite(dest+ \"%d.jpg\" % count, image)     # save frame as JPEG file      \n",
    "        success,image = vidcap.read()\n",
    "    #   print('Read a new frame: ', success)\n",
    "        count += 1"
   ]
  },
  {
   "cell_type": "code",
   "execution_count": null,
   "metadata": {},
   "outputs": [],
   "source": [
    "classes=os.listdir(\"F:\\\\temp\\\\photos\\\\v2\\\\test\\\\\")\n",
    "for c in classes:\n",
    "    Cap_video_frame(\"F:\\\\temp\\\\videos\\\\v2\\\\\"+c+\"_t.mp4\", \"F:\\\\temp\\\\photos\\\\v2\\\\test\\\\\"+c+\"\\\\\")"
   ]
  }
 ],
 "metadata": {
  "kernelspec": {
   "display_name": "Python 3",
   "language": "python",
   "name": "python3"
  },
  "language_info": {
   "codemirror_mode": {
    "name": "ipython",
    "version": 3
   },
   "file_extension": ".py",
   "mimetype": "text/x-python",
   "name": "python",
   "nbconvert_exporter": "python",
   "pygments_lexer": "ipython3",
   "version": "3.7.4"
  }
 },
 "nbformat": 4,
 "nbformat_minor": 2
}
