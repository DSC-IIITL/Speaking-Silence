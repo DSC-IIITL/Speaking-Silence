{
 "cells": [
  {
   "cell_type": "code",
   "execution_count": 1,
   "metadata": {},
   "outputs": [],
   "source": [
    "import cv2\n",
    "import numpy as np\n",
    "import os"
   ]
  },
  {
   "cell_type": "code",
   "execution_count": 2,
   "metadata": {},
   "outputs": [],
   "source": [
    "sign_folders=[]\n",
    "flag=1\n",
    "for x,y,z in os.walk('F:\\\\Swastik\\\\study\\\\ml\\\\datasets\\\\mini_project_data\\\\'):\n",
    "    if(flag==1):\n",
    "        sign_folders=y\n",
    "        flag=0"
   ]
  },
  {
   "cell_type": "code",
   "execution_count": 2,
   "metadata": {},
   "outputs": [],
   "source": [
    "def flipv(imgg):\n",
    "    img2= np.zeros([480, 640, 3], np.uint8)\n",
    "    for i in range(640):\n",
    "\n",
    "        img2[:,i,:]=imgg[:,640-i-1,:]\n",
    "\n",
    "    return img2"
   ]
  },
  {
   "cell_type": "code",
   "execution_count": 3,
   "metadata": {},
   "outputs": [
    {
     "name": "stdout",
     "output_type": "stream",
     "text": [
      "Enter symbol Value\n"
     ]
    }
   ],
   "source": [
    "cam = cv2.VideoCapture(0)\n",
    "count=0\n",
    "sign_data = []\n",
    "# print(\"Enter symbol Value\")\n",
    "# sign_name = input()\n",
    "dataset_path = 'F:\\\\Swastik\\\\study\\\\ml\\\\datasets\\\\mini_project_data\\\\train\\\\'\n",
    "\n",
    "while True:\n",
    "    ret,frame = cam.read()\n",
    "    gray_frame = cv2.cvtColor(frame,cv2.COLOR_BGR2GRAY)\n",
    "\n",
    "    if (ret==False):\n",
    "        continue\n",
    "    \n",
    "    cv2.rectangle(frame,(0,61),(232,293),(255,0,0),4)\n",
    "    cut_frame=frame[65:289,4:228,:]\n",
    "    cv2.imshow(\"Image\",frame)\n",
    "    \n",
    "    key_pressed = cv2.waitKey(1) & 0xFF\n",
    "    if(key_pressed==ord('q')):\n",
    "        cv2.imwrite(dataset_path+str(count)+'.png',cut_frame)\n",
    "        count=count+1\n",
    "    if(key_pressed==ord('a')):\n",
    "        break\n",
    "\n",
    "cam.release()\n",
    "cv2.destroyAllWindows()"
   ]
  },
  {
   "cell_type": "code",
   "execution_count": null,
   "metadata": {},
   "outputs": [],
   "source": []
  }
 ],
 "metadata": {
  "kernelspec": {
   "display_name": "Python 3",
   "language": "python",
   "name": "python3"
  },
  "language_info": {
   "codemirror_mode": {
    "name": "ipython",
    "version": 3
   },
   "file_extension": ".py",
   "mimetype": "text/x-python",
   "name": "python",
   "nbconvert_exporter": "python",
   "pygments_lexer": "ipython3",
   "version": "3.7.3"
  }
 },
 "nbformat": 4,
 "nbformat_minor": 2
}
